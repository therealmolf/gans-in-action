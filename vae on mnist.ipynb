{
 "nbformat": 4,
 "nbformat_minor": 2,
 "metadata": {
  "language_info": {
   "name": "python",
   "codemirror_mode": {
    "name": "ipython",
    "version": 3
   },
   "version": "3.6.10-final"
  },
  "orig_nbformat": 2,
  "file_extension": ".py",
  "mimetype": "text/x-python",
  "name": "python",
  "npconvert_exporter": "python",
  "pygments_lexer": "ipython3",
  "version": 3,
  "kernelspec": {
   "name": "python361064bitgansactionconda4e53682eabdd462ca84a987a7ce8dff4",
   "display_name": "Python 3.6.10 64-bit ('gans-action': conda)"
  }
 },
 "cells": [
  {
   "cell_type": "code",
   "execution_count": 1,
   "metadata": {},
   "outputs": [
    {
     "output_type": "stream",
     "name": "stderr",
     "text": "C:\\Users\\Miko Planas\\.conda\\envs\\gans-action\\lib\\site-packages\\tensorflow\\python\\framework\\dtypes.py:523: FutureWarning: Passing (type, 1) or '1type' as a synonym of type is deprecated; in a future version of numpy, it will be understood as (type, (1,)) / '(1,)type'.\n  _np_qint8 = np.dtype([(\"qint8\", np.int8, 1)])\nC:\\Users\\Miko Planas\\.conda\\envs\\gans-action\\lib\\site-packages\\tensorflow\\python\\framework\\dtypes.py:524: FutureWarning: Passing (type, 1) or '1type' as a synonym of type is deprecated; in a future version of numpy, it will be understood as (type, (1,)) / '(1,)type'.\n  _np_quint8 = np.dtype([(\"quint8\", np.uint8, 1)])\nC:\\Users\\Miko Planas\\.conda\\envs\\gans-action\\lib\\site-packages\\tensorflow\\python\\framework\\dtypes.py:525: FutureWarning: Passing (type, 1) or '1type' as a synonym of type is deprecated; in a future version of numpy, it will be understood as (type, (1,)) / '(1,)type'.\n  _np_qint16 = np.dtype([(\"qint16\", np.int16, 1)])\nC:\\Users\\Miko Planas\\.conda\\envs\\gans-action\\lib\\site-packages\\tensorflow\\python\\framework\\dtypes.py:526: FutureWarning: Passing (type, 1) or '1type' as a synonym of type is deprecated; in a future version of numpy, it will be understood as (type, (1,)) / '(1,)type'.\n  _np_quint16 = np.dtype([(\"quint16\", np.uint16, 1)])\nC:\\Users\\Miko Planas\\.conda\\envs\\gans-action\\lib\\site-packages\\tensorflow\\python\\framework\\dtypes.py:527: FutureWarning: Passing (type, 1) or '1type' as a synonym of type is deprecated; in a future version of numpy, it will be understood as (type, (1,)) / '(1,)type'.\n  _np_qint32 = np.dtype([(\"qint32\", np.int32, 1)])\nC:\\Users\\Miko Planas\\.conda\\envs\\gans-action\\lib\\site-packages\\tensorflow\\python\\framework\\dtypes.py:532: FutureWarning: Passing (type, 1) or '1type' as a synonym of type is deprecated; in a future version of numpy, it will be understood as (type, (1,)) / '(1,)type'.\n  np_resource = np.dtype([(\"resource\", np.ubyte, 1)])\n"
    }
   ],
   "source": [
    "import tensorflow as tf"
   ]
  },
  {
   "cell_type": "code",
   "execution_count": 2,
   "metadata": {},
   "outputs": [
    {
     "output_type": "stream",
     "name": "stdout",
     "text": "1.12.0\n"
    }
   ],
   "source": [
    "print(tf.__version__)"
   ]
  },
  {
   "cell_type": "code",
   "execution_count": 5,
   "metadata": {},
   "outputs": [],
   "source": [
    "from keras.layers import Input, Dense, Lambda\n",
    "from keras.models import Model\n",
    "from keras import backend as K\n",
    "from keras import objectives\n",
    "from keras.datasets import mnist\n",
    "import numpy as np"
   ]
  },
  {
   "cell_type": "code",
   "execution_count": 6,
   "metadata": {},
   "outputs": [],
   "source": [
    "# hyperparams\n",
    "\n",
    "batch_size = 100\n",
    "original_dim = 28*28\n",
    "latent_dim = 2\n",
    "intermediate_dim = 256\n",
    "nb_epoch = 5\n",
    "epsilon_std = 1.0"
   ]
  },
  {
   "cell_type": "code",
   "execution_count": 9,
   "metadata": {},
   "outputs": [],
   "source": [
    "\n",
    "# creaeting the sampler helper function\n",
    "def sampling(args):\n",
    "    z_mean, z_log_var = args\n",
    "    epsilon = K.random_normal(shape=(batch_size, latent_dim), mean=0)\n",
    "    return z_mean + K.exp(z_log_var / 2)*epsilon\n",
    "\n",
    "# creating the encoder of the vae using functional api\n",
    "# note that output_shape isnt necessary with the Tensorflow backend\n",
    "x = Input(shape=(original_dim,), name=\"input\")\n",
    "h = Dense(intermediate_dim, activation='relu', name='encoding')(x)\n",
    "z_mean = Dense(latent_dim, name=\"mean\")(h)\n",
    "z_log_var = Dense(latent_dim, name='log-variance')(h)\n",
    "z = Lambda(sampling, output_shape=(latent_dim,))([z_mean, z_log_var])\n",
    "encoder = Model(x, [z_mean, z_log_var, z], name='encoder')\n",
    ""
   ]
  },
  {
   "cell_type": "code",
   "execution_count": null,
   "metadata": {},
   "outputs": [],
   "source": []
  },
  {
   "cell_type": "code",
   "execution_count": 16,
   "metadata": {},
   "outputs": [
    {
     "output_type": "stream",
     "name": "stdout",
     "text": "_________________________________________________________________\nLayer (type)                 Output Shape              Param #   \n=================================================================\ninput (InputLayer)           (None, 784)               0         \n_________________________________________________________________\nencoder (Model)              [(None, 2), (None, 2), (N 201988    \n_________________________________________________________________\ndecoder (Model)              (None, 784)               202256    \n=================================================================\nTotal params: 404,244\nTrainable params: 404,244\nNon-trainable params: 0\n_________________________________________________________________\n"
    }
   ],
   "source": [
    "# decoder\n",
    "input_decoder = Input(shape=(latent_dim,), name=\"decoder_input\")\n",
    "decoder_h = Dense(intermediate_dim, activation='relu', name='decoder_h')(input_decoder)\n",
    "x_decoded = Dense(original_dim, activation='sigmoid', name=\"flat_decoded\")(decoder_h)\n",
    "decoder = Model (input_decoder, x_decoded, name=\"decoder\")\n",
    "\n",
    "# full vae\n",
    "output_combined = decoder(encoder(x)[2])\n",
    "vae = Model(x, output_combined)\n",
    "vae.summary()"
   ]
  },
  {
   "cell_type": "code",
   "execution_count": 19,
   "metadata": {},
   "outputs": [],
   "source": [
    "# define the loss function, overall loss of vae using kl divergence and binary cross entropy\n",
    "# i think the format for this can be searched online\n",
    "def vae_loss(x, x_decoded_mean,  original_dim=original_dim):\n",
    "    xent_loss = original_dim* objectives.binary_crossentropy(x, x_decoded_mean)\n",
    "    k1_loss = -0.5*K.sum(1 + z_log_var - K.square(z_mean) - K.exp(z_log_var), axis=1)\n",
    "    return xent_loss + k1_loss\n",
    "\n",
    "vae.compile(optimizer=\"rmsprop\", loss=vae_loss)"
   ]
  },
  {
   "cell_type": "code",
   "execution_count": 20,
   "metadata": {},
   "outputs": [],
   "source": [
    "(x_train, y_train), (x_test, y_test) = mnist.load_data()\n",
    "x_train = x_train.astype('float32') / 255.\n",
    "x_test = x_test.astype('float32') / 255\n",
    "x_train = x_train.reshape((len(x_train), np.prod(x_train.shape[1:])))\n",
    "x_test = x_test.reshape((len(x_test), np.prod(x_test.shape[1:])))"
   ]
  },
  {
   "cell_type": "code",
   "execution_count": 21,
   "metadata": {},
   "outputs": [
    {
     "output_type": "stream",
     "name": "stderr",
     "text": "C:\\Users\\Miko Planas\\.conda\\envs\\gans-action\\lib\\site-packages\\ipykernel_launcher.py:2: UserWarning: The `nb_epoch` argument in `fit` has been renamed `epochs`.\n  \nTrain on 60000 samples, validate on 10000 samples\nEpoch 1/5\n60000/60000 [==============================] - 18s 306us/step - loss: -42935.7460 - val_loss: -43775.5054\nEpoch 2/5\n60000/60000 [==============================] - 14s 240us/step - loss: -43953.4445 - val_loss: -43953.7058\nEpoch 3/5\n60000/60000 [==============================] - 15s 253us/step - loss: -44140.2061 - val_loss: -44022.1359\nEpoch 4/5\n60000/60000 [==============================] - 15s 245us/step - loss: -44206.1579 - val_loss: -44071.5841\nEpoch 5/5\n60000/60000 [==============================] - 14s 239us/step - loss: -44217.3197 - val_loss: -44106.7252\n"
    },
    {
     "output_type": "execute_result",
     "data": {
      "text/plain": "<keras.callbacks.History at 0x1b5cae1f780>"
     },
     "metadata": {},
     "execution_count": 21
    }
   ],
   "source": [
    "vae.fit(x_train, y_train, shuffle=True, nb_epoch=nb_epoch, batch_size=batch_size,\n",
    "validation_data=(x_test, y_test), verbose=1)"
   ]
  }
 ]
}